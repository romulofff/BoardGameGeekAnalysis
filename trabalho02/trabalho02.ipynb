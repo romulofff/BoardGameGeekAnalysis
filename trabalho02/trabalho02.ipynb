{
 "cells": [
  {
   "cell_type": "markdown",
   "metadata": {},
   "source": [
    "## Implementação de um Classificador Perceptron"
   ]
  },
  {
   "cell_type": "code",
   "execution_count": 1,
   "metadata": {},
   "outputs": [],
   "source": [
    "import numpy as np\n",
    "\n",
    "\n",
    "class Perceptron(object):\n",
    "    \"\"\"Perceptron classifier.\n",
    "\n",
    "    Parameters\n",
    "    ------------\n",
    "    eta : float\n",
    "      Learning rate (between 0.0 and 1.0)\n",
    "    n_iter : int\n",
    "      Passes over the training dataset.\n",
    "    random_state : int\n",
    "      Random number generator seed for random weight\n",
    "      initialization.\n",
    "\n",
    "    Attributes\n",
    "    -----------\n",
    "    w_ : 1d-array\n",
    "      Weights after fitting.\n",
    "    errors_ : list\n",
    "      Number of misclassifications (updates) in each epoch.\n",
    "\n",
    "    \"\"\"\n",
    "    def __init__(self, eta=0.01, n_iter=50, random_state=1):\n",
    "        self.eta = eta\n",
    "        self.n_iter = n_iter\n",
    "        self.random_state = random_state\n",
    "\n",
    "    def fit(self, X, y):\n",
    "        \"\"\"Fit training data.\n",
    "\n",
    "        Parameters\n",
    "        ----------\n",
    "        X : {array-like}, shape = [n_examples, n_features]\n",
    "          Training vectors, where n_examples is the number of examples and\n",
    "          n_features is the number of features.\n",
    "        y : array-like, shape = [n_examples]\n",
    "          Target values.\n",
    "\n",
    "        Returns\n",
    "        -------\n",
    "        self : object\n",
    "\n",
    "        \"\"\"\n",
    "        rgen = np.random.RandomState(self.random_state)\n",
    "        self.w_ = rgen.normal(loc=0.0, scale=0.01, size=1 + X.shape[1])\n",
    "        self.errors_ = []\n",
    "        \n",
    "        for _ in range(self.n_iter):\n",
    "            errors = 0\n",
    "            for xi, target in zip(X, y):\n",
    "                update = self.eta * (target - self.predict(xi))\n",
    "                self.w_[1:] += update * xi\n",
    "                self.w_[0] += update\n",
    "                errors += int(update != 0.0)\n",
    "            self.errors_.append(errors)\n",
    "        return self\n",
    "\n",
    "    def net_input(self, X):\n",
    "        \"\"\"Calculate net input\"\"\"\n",
    "        return np.dot(X, self.w_[1:]) + self.w_[0]\n",
    "\n",
    "    def predict(self, X):\n",
    "        \"\"\"Return class label after unit step\"\"\"\n",
    "        return np.where(self.net_input(X) >= 0.0, 1, -1)"
   ]
  },
  {
   "cell_type": "markdown",
   "metadata": {},
   "source": [
    "## Testando o classificador Perceptron"
   ]
  },
  {
   "cell_type": "code",
   "execution_count": 2,
   "metadata": {
    "scrolled": true
   },
   "outputs": [
    {
     "name": "stdout",
     "output_type": "stream",
     "text": [
      "Resultado da Predição [-1  1 -1]\n"
     ]
    }
   ],
   "source": [
    "\"\"\"Dados de Treinamento \"\"\"\n",
    "X = np.array([[1,1],[2,2],[3,3]])\n",
    "y = np.array([1,1,-1])\n",
    "\n",
    "\"\"\"Criando objeto Perceptron\"\"\"\n",
    "ppn = Perceptron(eta=0.1, n_iter=10000)\n",
    "\n",
    "\"\"\"Treinando o modelo\"\"\"\n",
    "ppn.fit(X, y)\n",
    "\n",
    "\"\"\"Testando modelo treinado \"\"\"\n",
    "X_newdata = np.array([[4,4],[2,2],[3,3]])\n",
    "print(\"Resultado da Predição\",ppn.predict(X_newdata));"
   ]
  },
  {
   "cell_type": "markdown",
   "metadata": {},
   "source": [
    "## Questao 1 - Implemente uma função para calcular a acurácia do modelo"
   ]
  },
  {
   "cell_type": "code",
   "execution_count": 3,
   "metadata": {},
   "outputs": [],
   "source": [
    "def accuracy(original, predicted):\n",
    "    match = 0\n",
    "    for i in range(len(original)):\n",
    "        if original[i] == predicted[i]:\n",
    "            match += 1\n",
    "    return match / len(original) * 100.0\n"
   ]
  },
  {
   "cell_type": "code",
   "execution_count": 4,
   "metadata": {},
   "outputs": [
    {
     "data": {
      "text/plain": [
       "100.0"
      ]
     },
     "execution_count": 4,
     "metadata": {},
     "output_type": "execute_result"
    }
   ],
   "source": [
    "predicted = ppn.predict(X)\n",
    "original = y\n",
    "accuracy(original, predicted)"
   ]
  },
  {
   "cell_type": "code",
   "execution_count": 5,
   "metadata": {},
   "outputs": [
    {
     "data": {
      "text/plain": [
       "33.33333333333333"
      ]
     },
     "execution_count": 5,
     "metadata": {},
     "output_type": "execute_result"
    }
   ],
   "source": [
    "predicted = ppn.predict(X_newdata)\n",
    "original = np.array([1,-1,-1])\n",
    "accuracy(original, predicted)"
   ]
  },
  {
   "cell_type": "markdown",
   "metadata": {},
   "source": [
    "## Questao 2 - Implemente um método de validação cruzada para testar "
   ]
  },
  {
   "cell_type": "code",
   "execution_count": 63,
   "metadata": {},
   "outputs": [],
   "source": [
    "import random\n",
    "def split_folds(dataset, k):\n",
    "    folds = list()\n",
    "    fold_size = round(len(dataset) / k)\n",
    "    aux = dataset.copy()\n",
    "    np.random.shuffle(aux)\n",
    "    i = j = 0\n",
    "    for i in range(k):\n",
    "        fold = list()\n",
    "        while len(fold) < fold_size:\n",
    "            if j >= len(dataset):\n",
    "                break\n",
    "            fold.append(aux[j])\n",
    "            j+=1\n",
    "        folds.append(fold)\n",
    "\n",
    "\n",
    "    return folds"
   ]
  },
  {
   "cell_type": "code",
   "execution_count": 7,
   "metadata": {},
   "outputs": [
    {
     "data": {
      "text/plain": [
       "[[array([3, 3]), array([1, 1])], [array([2, 2])]]"
      ]
     },
     "execution_count": 7,
     "metadata": {},
     "output_type": "execute_result"
    }
   ],
   "source": [
    "folds = split_folds(X, 2)\n",
    "folds"
   ]
  },
  {
   "cell_type": "code",
   "execution_count": 8,
   "metadata": {},
   "outputs": [],
   "source": [
    "def cross_val(X, y, model, k):\n",
    "    x_folds = np.array(split_folds(X, k))\n",
    "    y_folds = np.array(split_folds(y, k))\n",
    "    \n",
    "    scores = list()\n",
    "    for i in range(k):\n",
    "        index = [j for j in range(k) if j!=i]\n",
    "        X_train, y_train = np.concatenate(x_folds[index]), np.concatenate(y_folds[index])\n",
    "        X_test, y_test = x_folds[i], y_folds[i] \n",
    "        model.fit(X_train, y_test)\n",
    "        predicted = model.predict(X_test)\n",
    "        scores.append(accuracy(y_test, predicted))\n",
    "    print(scores)\n",
    "    return sum(scores)/len(scores)\n",
    "        "
   ]
  },
  {
   "cell_type": "code",
   "execution_count": 14,
   "metadata": {},
   "outputs": [
    {
     "name": "stdout",
     "output_type": "stream",
     "text": [
      "[100.0, 100.0, 0.0]\n"
     ]
    },
    {
     "data": {
      "text/plain": [
       "66.66666666666667"
      ]
     },
     "execution_count": 14,
     "metadata": {},
     "output_type": "execute_result"
    }
   ],
   "source": [
    "cross_val(X, y, ppn, 3)"
   ]
  },
  {
   "cell_type": "markdown",
   "metadata": {},
   "source": [
    "## Teste o classificador usando um conjunto de dados linearmente separável e outro não linearmente separável\n",
    "### Sugestão: crie datasets sintéticos com apenas dois atributos para voce poder visualizar a separação das classes"
   ]
  },
  {
   "cell_type": "markdown",
   "metadata": {},
   "source": [
    "Linearmente separáveis - porta OR"
   ]
  },
  {
   "cell_type": "code",
   "execution_count": 15,
   "metadata": {},
   "outputs": [
    {
     "data": {
      "text/plain": [
       "array([1, 1, 1, 1])"
      ]
     },
     "execution_count": 15,
     "metadata": {},
     "output_type": "execute_result"
    }
   ],
   "source": [
    "x1 = np.array([[0,0],[0,1],[1,0],[1,1]])\n",
    "y1 = np.array([0,1,1,1])\n",
    "ppn.fit(x1,y1)\n",
    "ppn.predict(x1)"
   ]
  },
  {
   "cell_type": "code",
   "execution_count": 16,
   "metadata": {},
   "outputs": [
    {
     "data": {
      "text/plain": [
       "75.0"
      ]
     },
     "execution_count": 16,
     "metadata": {},
     "output_type": "execute_result"
    }
   ],
   "source": [
    "accuracy(y1, ppn.predict(x1))"
   ]
  },
  {
   "cell_type": "markdown",
   "metadata": {},
   "source": [
    "Não linearmente separável - porta XOR"
   ]
  },
  {
   "cell_type": "code",
   "execution_count": 17,
   "metadata": {},
   "outputs": [
    {
     "data": {
      "text/plain": [
       "array([1, 1, 1, 1])"
      ]
     },
     "execution_count": 17,
     "metadata": {},
     "output_type": "execute_result"
    }
   ],
   "source": [
    "x2 = np.array([[0,0],[0,1],[1,0],[1,1]])\n",
    "y2 = np.array([0,1,1,0])\n",
    "ppn.fit(x2,y2)\n",
    "ppn.predict(x2)"
   ]
  },
  {
   "cell_type": "code",
   "execution_count": 18,
   "metadata": {},
   "outputs": [
    {
     "data": {
      "text/plain": [
       "50.0"
      ]
     },
     "execution_count": 18,
     "metadata": {},
     "output_type": "execute_result"
    }
   ],
   "source": [
    "accuracy(y2, ppn.predict(x2))"
   ]
  },
  {
   "cell_type": "markdown",
   "metadata": {},
   "source": [
    "## Questao 3 - Treine um classificador perceptron para os dados de seu estudo de caso"
   ]
  },
  {
   "cell_type": "markdown",
   "metadata": {},
   "source": [
    "### Importando dados\n"
   ]
  },
  {
   "cell_type": "code",
   "execution_count": 41,
   "metadata": {},
   "outputs": [],
   "source": [
    "import sqlite3\n",
    "import pandas as pd"
   ]
  },
  {
   "cell_type": "code",
   "execution_count": 42,
   "metadata": {},
   "outputs": [],
   "source": [
    "db_sql = sqlite3.connect('database.sqlite')\n",
    "df = pd.read_sql_query(\"SELECT * FROM BoardGames\", db_sql)\n",
    "db_sql.close()"
   ]
  },
  {
   "cell_type": "markdown",
   "metadata": {},
   "source": [
    "### Pré-processando\n",
    "O mesmo pré-processamento do trabalho 1 foi aplicado ao dataset, removendo colunas indesejadas e jogos irrelevantes. Também foram removidas as expansões de jogos"
   ]
  },
  {
   "cell_type": "code",
   "execution_count": 43,
   "metadata": {},
   "outputs": [],
   "source": [
    "df = df[df['game.type']=='boardgame']\n",
    "df = df.dropna(axis=0, subset=['details.yearpublished'])\n",
    "df = df[df['stats.usersrated'] >= 10]\n",
    "# Removendo colunas indesejadas\n",
    "for col in df:\n",
    "    if 'polls' in col or 'family' in col or 'subtype' in col:\n",
    "        df.drop(col, axis=1, inplace=True)\n",
    "\n",
    "\n",
    "df.drop('attributes.t.links.concat.2....', axis=1, inplace=True)\n",
    "df.drop('details.description', axis=1, inplace=True)\n",
    "df.drop('details.thumbnail', axis=1, inplace=True)\n",
    "df.drop('details.image', axis=1, inplace=True)\n"
   ]
  },
  {
   "cell_type": "code",
   "execution_count": 44,
   "metadata": {},
   "outputs": [
    {
     "data": {
      "text/html": [
       "<div>\n",
       "<style scoped>\n",
       "    .dataframe tbody tr th:only-of-type {\n",
       "        vertical-align: middle;\n",
       "    }\n",
       "\n",
       "    .dataframe tbody tr th {\n",
       "        vertical-align: top;\n",
       "    }\n",
       "\n",
       "    .dataframe thead th {\n",
       "        text-align: right;\n",
       "    }\n",
       "</style>\n",
       "<table border=\"1\" class=\"dataframe\">\n",
       "  <thead>\n",
       "    <tr style=\"text-align: right;\">\n",
       "      <th></th>\n",
       "      <th>row_names</th>\n",
       "      <th>game.id</th>\n",
       "      <th>game.type</th>\n",
       "      <th>details.maxplayers</th>\n",
       "      <th>details.maxplaytime</th>\n",
       "      <th>details.minage</th>\n",
       "      <th>details.minplayers</th>\n",
       "      <th>details.minplaytime</th>\n",
       "      <th>details.name</th>\n",
       "      <th>details.playingtime</th>\n",
       "      <th>...</th>\n",
       "      <th>stats.bayesaverage</th>\n",
       "      <th>stats.median</th>\n",
       "      <th>stats.numcomments</th>\n",
       "      <th>stats.numweights</th>\n",
       "      <th>stats.owned</th>\n",
       "      <th>stats.stddev</th>\n",
       "      <th>stats.trading</th>\n",
       "      <th>stats.usersrated</th>\n",
       "      <th>stats.wanting</th>\n",
       "      <th>stats.wishing</th>\n",
       "    </tr>\n",
       "  </thead>\n",
       "  <tbody>\n",
       "    <tr>\n",
       "      <th>0</th>\n",
       "      <td>1</td>\n",
       "      <td>1</td>\n",
       "      <td>boardgame</td>\n",
       "      <td>5.0</td>\n",
       "      <td>240.0</td>\n",
       "      <td>14.0</td>\n",
       "      <td>3.0</td>\n",
       "      <td>240.0</td>\n",
       "      <td>Die Macher</td>\n",
       "      <td>240.0</td>\n",
       "      <td>...</td>\n",
       "      <td>7.29168</td>\n",
       "      <td>0.0</td>\n",
       "      <td>1763.0</td>\n",
       "      <td>719.0</td>\n",
       "      <td>5251.0</td>\n",
       "      <td>1.59321</td>\n",
       "      <td>170.0</td>\n",
       "      <td>4498.0</td>\n",
       "      <td>505.0</td>\n",
       "      <td>1654.0</td>\n",
       "    </tr>\n",
       "    <tr>\n",
       "      <th>1</th>\n",
       "      <td>2</td>\n",
       "      <td>2</td>\n",
       "      <td>boardgame</td>\n",
       "      <td>4.0</td>\n",
       "      <td>30.0</td>\n",
       "      <td>12.0</td>\n",
       "      <td>3.0</td>\n",
       "      <td>30.0</td>\n",
       "      <td>Dragonmaster</td>\n",
       "      <td>30.0</td>\n",
       "      <td>...</td>\n",
       "      <td>5.87150</td>\n",
       "      <td>0.0</td>\n",
       "      <td>273.0</td>\n",
       "      <td>52.0</td>\n",
       "      <td>1053.0</td>\n",
       "      <td>1.46282</td>\n",
       "      <td>73.0</td>\n",
       "      <td>478.0</td>\n",
       "      <td>67.0</td>\n",
       "      <td>161.0</td>\n",
       "    </tr>\n",
       "    <tr>\n",
       "      <th>2</th>\n",
       "      <td>3</td>\n",
       "      <td>3</td>\n",
       "      <td>boardgame</td>\n",
       "      <td>4.0</td>\n",
       "      <td>60.0</td>\n",
       "      <td>10.0</td>\n",
       "      <td>2.0</td>\n",
       "      <td>30.0</td>\n",
       "      <td>Samurai</td>\n",
       "      <td>60.0</td>\n",
       "      <td>...</td>\n",
       "      <td>7.28295</td>\n",
       "      <td>0.0</td>\n",
       "      <td>3281.0</td>\n",
       "      <td>1355.0</td>\n",
       "      <td>11870.0</td>\n",
       "      <td>1.18531</td>\n",
       "      <td>234.0</td>\n",
       "      <td>12019.0</td>\n",
       "      <td>707.0</td>\n",
       "      <td>2601.0</td>\n",
       "    </tr>\n",
       "    <tr>\n",
       "      <th>3</th>\n",
       "      <td>4</td>\n",
       "      <td>4</td>\n",
       "      <td>boardgame</td>\n",
       "      <td>4.0</td>\n",
       "      <td>60.0</td>\n",
       "      <td>12.0</td>\n",
       "      <td>2.0</td>\n",
       "      <td>60.0</td>\n",
       "      <td>Tal der Könige</td>\n",
       "      <td>60.0</td>\n",
       "      <td>...</td>\n",
       "      <td>5.76636</td>\n",
       "      <td>0.0</td>\n",
       "      <td>111.0</td>\n",
       "      <td>30.0</td>\n",
       "      <td>523.0</td>\n",
       "      <td>1.21028</td>\n",
       "      <td>29.0</td>\n",
       "      <td>314.0</td>\n",
       "      <td>61.0</td>\n",
       "      <td>112.0</td>\n",
       "    </tr>\n",
       "    <tr>\n",
       "      <th>4</th>\n",
       "      <td>5</td>\n",
       "      <td>5</td>\n",
       "      <td>boardgame</td>\n",
       "      <td>6.0</td>\n",
       "      <td>90.0</td>\n",
       "      <td>12.0</td>\n",
       "      <td>3.0</td>\n",
       "      <td>90.0</td>\n",
       "      <td>Acquire</td>\n",
       "      <td>90.0</td>\n",
       "      <td>...</td>\n",
       "      <td>7.21895</td>\n",
       "      <td>0.0</td>\n",
       "      <td>5011.0</td>\n",
       "      <td>1515.0</td>\n",
       "      <td>18682.0</td>\n",
       "      <td>1.33020</td>\n",
       "      <td>823.0</td>\n",
       "      <td>15195.0</td>\n",
       "      <td>516.0</td>\n",
       "      <td>2219.0</td>\n",
       "    </tr>\n",
       "    <tr>\n",
       "      <th>...</th>\n",
       "      <td>...</td>\n",
       "      <td>...</td>\n",
       "      <td>...</td>\n",
       "      <td>...</td>\n",
       "      <td>...</td>\n",
       "      <td>...</td>\n",
       "      <td>...</td>\n",
       "      <td>...</td>\n",
       "      <td>...</td>\n",
       "      <td>...</td>\n",
       "      <td>...</td>\n",
       "      <td>...</td>\n",
       "      <td>...</td>\n",
       "      <td>...</td>\n",
       "      <td>...</td>\n",
       "      <td>...</td>\n",
       "      <td>...</td>\n",
       "      <td>...</td>\n",
       "      <td>...</td>\n",
       "      <td>...</td>\n",
       "      <td>...</td>\n",
       "    </tr>\n",
       "    <tr>\n",
       "      <th>88630</th>\n",
       "      <td>88631</td>\n",
       "      <td>213492</td>\n",
       "      <td>boardgame</td>\n",
       "      <td>5.0</td>\n",
       "      <td>0.0</td>\n",
       "      <td>10.0</td>\n",
       "      <td>2.0</td>\n",
       "      <td>30.0</td>\n",
       "      <td>Pyramids</td>\n",
       "      <td>0.0</td>\n",
       "      <td>...</td>\n",
       "      <td>5.65671</td>\n",
       "      <td>0.0</td>\n",
       "      <td>25.0</td>\n",
       "      <td>3.0</td>\n",
       "      <td>221.0</td>\n",
       "      <td>1.15237</td>\n",
       "      <td>2.0</td>\n",
       "      <td>106.0</td>\n",
       "      <td>30.0</td>\n",
       "      <td>160.0</td>\n",
       "    </tr>\n",
       "    <tr>\n",
       "      <th>88729</th>\n",
       "      <td>88730</td>\n",
       "      <td>213893</td>\n",
       "      <td>boardgame</td>\n",
       "      <td>4.0</td>\n",
       "      <td>80.0</td>\n",
       "      <td>13.0</td>\n",
       "      <td>2.0</td>\n",
       "      <td>40.0</td>\n",
       "      <td>Yamataï</td>\n",
       "      <td>80.0</td>\n",
       "      <td>...</td>\n",
       "      <td>6.06010</td>\n",
       "      <td>0.0</td>\n",
       "      <td>110.0</td>\n",
       "      <td>24.0</td>\n",
       "      <td>728.0</td>\n",
       "      <td>1.45617</td>\n",
       "      <td>3.0</td>\n",
       "      <td>398.0</td>\n",
       "      <td>296.0</td>\n",
       "      <td>1832.0</td>\n",
       "    </tr>\n",
       "    <tr>\n",
       "      <th>89183</th>\n",
       "      <td>89184</td>\n",
       "      <td>216201</td>\n",
       "      <td>boardgame</td>\n",
       "      <td>6.0</td>\n",
       "      <td>120.0</td>\n",
       "      <td>12.0</td>\n",
       "      <td>2.0</td>\n",
       "      <td>20.0</td>\n",
       "      <td>Robo Rally (2016)</td>\n",
       "      <td>120.0</td>\n",
       "      <td>...</td>\n",
       "      <td>5.98430</td>\n",
       "      <td>0.0</td>\n",
       "      <td>84.0</td>\n",
       "      <td>5.0</td>\n",
       "      <td>963.0</td>\n",
       "      <td>1.47625</td>\n",
       "      <td>8.0</td>\n",
       "      <td>341.0</td>\n",
       "      <td>99.0</td>\n",
       "      <td>469.0</td>\n",
       "    </tr>\n",
       "    <tr>\n",
       "      <th>89320</th>\n",
       "      <td>89321</td>\n",
       "      <td>216725</td>\n",
       "      <td>boardgame</td>\n",
       "      <td>5.0</td>\n",
       "      <td>60.0</td>\n",
       "      <td>14.0</td>\n",
       "      <td>1.0</td>\n",
       "      <td>30.0</td>\n",
       "      <td>Villages of Valeria: Deluxe Kickstarter Edition</td>\n",
       "      <td>60.0</td>\n",
       "      <td>...</td>\n",
       "      <td>5.73336</td>\n",
       "      <td>0.0</td>\n",
       "      <td>35.0</td>\n",
       "      <td>4.0</td>\n",
       "      <td>520.0</td>\n",
       "      <td>1.02655</td>\n",
       "      <td>16.0</td>\n",
       "      <td>119.0</td>\n",
       "      <td>7.0</td>\n",
       "      <td>5.0</td>\n",
       "    </tr>\n",
       "    <tr>\n",
       "      <th>89537</th>\n",
       "      <td>89538</td>\n",
       "      <td>217449</td>\n",
       "      <td>boardgame</td>\n",
       "      <td>4.0</td>\n",
       "      <td>20.0</td>\n",
       "      <td>8.0</td>\n",
       "      <td>1.0</td>\n",
       "      <td>20.0</td>\n",
       "      <td>NMBR 9</td>\n",
       "      <td>20.0</td>\n",
       "      <td>...</td>\n",
       "      <td>5.68367</td>\n",
       "      <td>0.0</td>\n",
       "      <td>26.0</td>\n",
       "      <td>4.0</td>\n",
       "      <td>154.0</td>\n",
       "      <td>1.16652</td>\n",
       "      <td>0.0</td>\n",
       "      <td>136.0</td>\n",
       "      <td>50.0</td>\n",
       "      <td>155.0</td>\n",
       "    </tr>\n",
       "  </tbody>\n",
       "</table>\n",
       "<p>7465 rows × 33 columns</p>\n",
       "</div>"
      ],
      "text/plain": [
       "      row_names game.id  game.type  details.maxplayers  details.maxplaytime  \\\n",
       "0             1       1  boardgame                 5.0                240.0   \n",
       "1             2       2  boardgame                 4.0                 30.0   \n",
       "2             3       3  boardgame                 4.0                 60.0   \n",
       "3             4       4  boardgame                 4.0                 60.0   \n",
       "4             5       5  boardgame                 6.0                 90.0   \n",
       "...         ...     ...        ...                 ...                  ...   \n",
       "88630     88631  213492  boardgame                 5.0                  0.0   \n",
       "88729     88730  213893  boardgame                 4.0                 80.0   \n",
       "89183     89184  216201  boardgame                 6.0                120.0   \n",
       "89320     89321  216725  boardgame                 5.0                 60.0   \n",
       "89537     89538  217449  boardgame                 4.0                 20.0   \n",
       "\n",
       "       details.minage  details.minplayers  details.minplaytime  \\\n",
       "0                14.0                 3.0                240.0   \n",
       "1                12.0                 3.0                 30.0   \n",
       "2                10.0                 2.0                 30.0   \n",
       "3                12.0                 2.0                 60.0   \n",
       "4                12.0                 3.0                 90.0   \n",
       "...               ...                 ...                  ...   \n",
       "88630            10.0                 2.0                 30.0   \n",
       "88729            13.0                 2.0                 40.0   \n",
       "89183            12.0                 2.0                 20.0   \n",
       "89320            14.0                 1.0                 30.0   \n",
       "89537             8.0                 1.0                 20.0   \n",
       "\n",
       "                                          details.name  details.playingtime  \\\n",
       "0                                           Die Macher                240.0   \n",
       "1                                         Dragonmaster                 30.0   \n",
       "2                                              Samurai                 60.0   \n",
       "3                                       Tal der Könige                 60.0   \n",
       "4                                              Acquire                 90.0   \n",
       "...                                                ...                  ...   \n",
       "88630                                         Pyramids                  0.0   \n",
       "88729                                          Yamataï                 80.0   \n",
       "89183                                Robo Rally (2016)                120.0   \n",
       "89320  Villages of Valeria: Deluxe Kickstarter Edition                 60.0   \n",
       "89537                                           NMBR 9                 20.0   \n",
       "\n",
       "       ...  stats.bayesaverage stats.median stats.numcomments  \\\n",
       "0      ...             7.29168          0.0            1763.0   \n",
       "1      ...             5.87150          0.0             273.0   \n",
       "2      ...             7.28295          0.0            3281.0   \n",
       "3      ...             5.76636          0.0             111.0   \n",
       "4      ...             7.21895          0.0            5011.0   \n",
       "...    ...                 ...          ...               ...   \n",
       "88630  ...             5.65671          0.0              25.0   \n",
       "88729  ...             6.06010          0.0             110.0   \n",
       "89183  ...             5.98430          0.0              84.0   \n",
       "89320  ...             5.73336          0.0              35.0   \n",
       "89537  ...             5.68367          0.0              26.0   \n",
       "\n",
       "      stats.numweights stats.owned stats.stddev stats.trading  \\\n",
       "0                719.0      5251.0      1.59321         170.0   \n",
       "1                 52.0      1053.0      1.46282          73.0   \n",
       "2               1355.0     11870.0      1.18531         234.0   \n",
       "3                 30.0       523.0      1.21028          29.0   \n",
       "4               1515.0     18682.0      1.33020         823.0   \n",
       "...                ...         ...          ...           ...   \n",
       "88630              3.0       221.0      1.15237           2.0   \n",
       "88729             24.0       728.0      1.45617           3.0   \n",
       "89183              5.0       963.0      1.47625           8.0   \n",
       "89320              4.0       520.0      1.02655          16.0   \n",
       "89537              4.0       154.0      1.16652           0.0   \n",
       "\n",
       "      stats.usersrated stats.wanting stats.wishing  \n",
       "0               4498.0         505.0        1654.0  \n",
       "1                478.0          67.0         161.0  \n",
       "2              12019.0         707.0        2601.0  \n",
       "3                314.0          61.0         112.0  \n",
       "4              15195.0         516.0        2219.0  \n",
       "...                ...           ...           ...  \n",
       "88630            106.0          30.0         160.0  \n",
       "88729            398.0         296.0        1832.0  \n",
       "89183            341.0          99.0         469.0  \n",
       "89320            119.0           7.0           5.0  \n",
       "89537            136.0          50.0         155.0  \n",
       "\n",
       "[7465 rows x 33 columns]"
      ]
     },
     "execution_count": 44,
     "metadata": {},
     "output_type": "execute_result"
    }
   ],
   "source": [
    "usersrated_100 = df[df['stats.usersrated'] >= 100]\n",
    "usersrated_100"
   ]
  },
  {
   "cell_type": "markdown",
   "metadata": {},
   "source": [
    "### Selecionando colunas para usar no treinamento\n",
    "As colunas selecionadas foram as relacionadas ao tempo de jogo e quantidade de jogadores"
   ]
  },
  {
   "cell_type": "code",
   "execution_count": 55,
   "metadata": {},
   "outputs": [],
   "source": [
    "df_corr = ['stats.average', 'stats.averageweight']\n",
    "for col in usersrated_100:\n",
    "    if 'details' in col:\n",
    "        df_corr.append(col)\n"
   ]
  },
  {
   "cell_type": "code",
   "execution_count": 58,
   "metadata": {},
   "outputs": [
    {
     "data": {
      "text/html": [
       "<div>\n",
       "<style scoped>\n",
       "    .dataframe tbody tr th:only-of-type {\n",
       "        vertical-align: middle;\n",
       "    }\n",
       "\n",
       "    .dataframe tbody tr th {\n",
       "        vertical-align: top;\n",
       "    }\n",
       "\n",
       "    .dataframe thead th {\n",
       "        text-align: right;\n",
       "    }\n",
       "</style>\n",
       "<table border=\"1\" class=\"dataframe\">\n",
       "  <thead>\n",
       "    <tr style=\"text-align: right;\">\n",
       "      <th></th>\n",
       "      <th>stats.average</th>\n",
       "      <th>stats.averageweight</th>\n",
       "      <th>details.maxplayers</th>\n",
       "      <th>details.maxplaytime</th>\n",
       "      <th>details.minage</th>\n",
       "      <th>details.minplayers</th>\n",
       "      <th>details.minplaytime</th>\n",
       "      <th>details.name</th>\n",
       "      <th>details.playingtime</th>\n",
       "      <th>details.yearpublished</th>\n",
       "    </tr>\n",
       "  </thead>\n",
       "  <tbody>\n",
       "    <tr>\n",
       "      <th>0</th>\n",
       "      <td>7.66508</td>\n",
       "      <td>4.3477</td>\n",
       "      <td>5.0</td>\n",
       "      <td>240.0</td>\n",
       "      <td>14.0</td>\n",
       "      <td>3.0</td>\n",
       "      <td>240.0</td>\n",
       "      <td>Die Macher</td>\n",
       "      <td>240.0</td>\n",
       "      <td>1986.0</td>\n",
       "    </tr>\n",
       "    <tr>\n",
       "      <th>1</th>\n",
       "      <td>6.60815</td>\n",
       "      <td>1.9423</td>\n",
       "      <td>4.0</td>\n",
       "      <td>30.0</td>\n",
       "      <td>12.0</td>\n",
       "      <td>3.0</td>\n",
       "      <td>30.0</td>\n",
       "      <td>Dragonmaster</td>\n",
       "      <td>30.0</td>\n",
       "      <td>1981.0</td>\n",
       "    </tr>\n",
       "    <tr>\n",
       "      <th>2</th>\n",
       "      <td>7.44119</td>\n",
       "      <td>2.5085</td>\n",
       "      <td>4.0</td>\n",
       "      <td>60.0</td>\n",
       "      <td>10.0</td>\n",
       "      <td>2.0</td>\n",
       "      <td>30.0</td>\n",
       "      <td>Samurai</td>\n",
       "      <td>60.0</td>\n",
       "      <td>1998.0</td>\n",
       "    </tr>\n",
       "    <tr>\n",
       "      <th>3</th>\n",
       "      <td>6.60675</td>\n",
       "      <td>2.6667</td>\n",
       "      <td>4.0</td>\n",
       "      <td>60.0</td>\n",
       "      <td>12.0</td>\n",
       "      <td>2.0</td>\n",
       "      <td>60.0</td>\n",
       "      <td>Tal der Könige</td>\n",
       "      <td>60.0</td>\n",
       "      <td>1992.0</td>\n",
       "    </tr>\n",
       "    <tr>\n",
       "      <th>4</th>\n",
       "      <td>7.35830</td>\n",
       "      <td>2.5089</td>\n",
       "      <td>6.0</td>\n",
       "      <td>90.0</td>\n",
       "      <td>12.0</td>\n",
       "      <td>3.0</td>\n",
       "      <td>90.0</td>\n",
       "      <td>Acquire</td>\n",
       "      <td>90.0</td>\n",
       "      <td>1964.0</td>\n",
       "    </tr>\n",
       "    <tr>\n",
       "      <th>...</th>\n",
       "      <td>...</td>\n",
       "      <td>...</td>\n",
       "      <td>...</td>\n",
       "      <td>...</td>\n",
       "      <td>...</td>\n",
       "      <td>...</td>\n",
       "      <td>...</td>\n",
       "      <td>...</td>\n",
       "      <td>...</td>\n",
       "      <td>...</td>\n",
       "    </tr>\n",
       "    <tr>\n",
       "      <th>88630</th>\n",
       "      <td>7.02499</td>\n",
       "      <td>2.0000</td>\n",
       "      <td>5.0</td>\n",
       "      <td>0.0</td>\n",
       "      <td>10.0</td>\n",
       "      <td>2.0</td>\n",
       "      <td>30.0</td>\n",
       "      <td>Pyramids</td>\n",
       "      <td>0.0</td>\n",
       "      <td>2017.0</td>\n",
       "    </tr>\n",
       "    <tr>\n",
       "      <th>88729</th>\n",
       "      <td>7.48023</td>\n",
       "      <td>3.0417</td>\n",
       "      <td>4.0</td>\n",
       "      <td>80.0</td>\n",
       "      <td>13.0</td>\n",
       "      <td>2.0</td>\n",
       "      <td>40.0</td>\n",
       "      <td>Yamataï</td>\n",
       "      <td>80.0</td>\n",
       "      <td>2017.0</td>\n",
       "    </tr>\n",
       "    <tr>\n",
       "      <th>89183</th>\n",
       "      <td>7.45871</td>\n",
       "      <td>2.2000</td>\n",
       "      <td>6.0</td>\n",
       "      <td>120.0</td>\n",
       "      <td>12.0</td>\n",
       "      <td>2.0</td>\n",
       "      <td>20.0</td>\n",
       "      <td>Robo Rally (2016)</td>\n",
       "      <td>120.0</td>\n",
       "      <td>2016.0</td>\n",
       "    </tr>\n",
       "    <tr>\n",
       "      <th>89320</th>\n",
       "      <td>7.52941</td>\n",
       "      <td>2.2500</td>\n",
       "      <td>5.0</td>\n",
       "      <td>60.0</td>\n",
       "      <td>14.0</td>\n",
       "      <td>1.0</td>\n",
       "      <td>30.0</td>\n",
       "      <td>Villages of Valeria: Deluxe Kickstarter Edition</td>\n",
       "      <td>60.0</td>\n",
       "      <td>2016.0</td>\n",
       "    </tr>\n",
       "    <tr>\n",
       "      <th>89537</th>\n",
       "      <td>6.91718</td>\n",
       "      <td>1.0000</td>\n",
       "      <td>4.0</td>\n",
       "      <td>20.0</td>\n",
       "      <td>8.0</td>\n",
       "      <td>1.0</td>\n",
       "      <td>20.0</td>\n",
       "      <td>NMBR 9</td>\n",
       "      <td>20.0</td>\n",
       "      <td>2017.0</td>\n",
       "    </tr>\n",
       "  </tbody>\n",
       "</table>\n",
       "<p>7465 rows × 10 columns</p>\n",
       "</div>"
      ],
      "text/plain": [
       "       stats.average  stats.averageweight  details.maxplayers  \\\n",
       "0            7.66508               4.3477                 5.0   \n",
       "1            6.60815               1.9423                 4.0   \n",
       "2            7.44119               2.5085                 4.0   \n",
       "3            6.60675               2.6667                 4.0   \n",
       "4            7.35830               2.5089                 6.0   \n",
       "...              ...                  ...                 ...   \n",
       "88630        7.02499               2.0000                 5.0   \n",
       "88729        7.48023               3.0417                 4.0   \n",
       "89183        7.45871               2.2000                 6.0   \n",
       "89320        7.52941               2.2500                 5.0   \n",
       "89537        6.91718               1.0000                 4.0   \n",
       "\n",
       "       details.maxplaytime  details.minage  details.minplayers  \\\n",
       "0                    240.0            14.0                 3.0   \n",
       "1                     30.0            12.0                 3.0   \n",
       "2                     60.0            10.0                 2.0   \n",
       "3                     60.0            12.0                 2.0   \n",
       "4                     90.0            12.0                 3.0   \n",
       "...                    ...             ...                 ...   \n",
       "88630                  0.0            10.0                 2.0   \n",
       "88729                 80.0            13.0                 2.0   \n",
       "89183                120.0            12.0                 2.0   \n",
       "89320                 60.0            14.0                 1.0   \n",
       "89537                 20.0             8.0                 1.0   \n",
       "\n",
       "       details.minplaytime                                     details.name  \\\n",
       "0                    240.0                                       Die Macher   \n",
       "1                     30.0                                     Dragonmaster   \n",
       "2                     30.0                                          Samurai   \n",
       "3                     60.0                                   Tal der Könige   \n",
       "4                     90.0                                          Acquire   \n",
       "...                    ...                                              ...   \n",
       "88630                 30.0                                         Pyramids   \n",
       "88729                 40.0                                          Yamataï   \n",
       "89183                 20.0                                Robo Rally (2016)   \n",
       "89320                 30.0  Villages of Valeria: Deluxe Kickstarter Edition   \n",
       "89537                 20.0                                           NMBR 9   \n",
       "\n",
       "       details.playingtime  details.yearpublished  \n",
       "0                    240.0                 1986.0  \n",
       "1                     30.0                 1981.0  \n",
       "2                     60.0                 1998.0  \n",
       "3                     60.0                 1992.0  \n",
       "4                     90.0                 1964.0  \n",
       "...                    ...                    ...  \n",
       "88630                  0.0                 2017.0  \n",
       "88729                 80.0                 2017.0  \n",
       "89183                120.0                 2016.0  \n",
       "89320                 60.0                 2016.0  \n",
       "89537                 20.0                 2017.0  \n",
       "\n",
       "[7465 rows x 10 columns]"
      ]
     },
     "execution_count": 58,
     "metadata": {},
     "output_type": "execute_result"
    }
   ],
   "source": [
    "df_ = usersrated_100[df_corr]\n",
    "df_"
   ]
  },
  {
   "cell_type": "markdown",
   "metadata": {},
   "source": [
    "### Parametrização da dificuldade\n",
    "Como o Perceptron é um modelo binário, a dificuldade do jogo foi dividida em duas categorias:\n",
    "- Fácil (-1): para jogos com peso inferior a 3\n",
    "- Difícil (1): para jogos com peso igual ou maior que 3"
   ]
  },
  {
   "cell_type": "code",
   "execution_count": 59,
   "metadata": {},
   "outputs": [
    {
     "name": "stderr",
     "output_type": "stream",
     "text": [
      "c:\\users\\romul\\documents\\ufc\\s9\\datascience\\boardgamegeekanalysis\\venv\\lib\\site-packages\\pandas\\core\\indexing.py:1765: SettingWithCopyWarning: \n",
      "A value is trying to be set on a copy of a slice from a DataFrame.\n",
      "Try using .loc[row_indexer,col_indexer] = value instead\n",
      "\n",
      "See the caveats in the documentation: https://pandas.pydata.org/pandas-docs/stable/user_guide/indexing.html#returning-a-view-versus-a-copy\n",
      "  isetter(loc, value)\n",
      "c:\\users\\romul\\documents\\ufc\\s9\\datascience\\boardgamegeekanalysis\\venv\\lib\\site-packages\\pandas\\core\\indexing.py:1765: SettingWithCopyWarning: \n",
      "A value is trying to be set on a copy of a slice from a DataFrame.\n",
      "Try using .loc[row_indexer,col_indexer] = value instead\n",
      "\n",
      "See the caveats in the documentation: https://pandas.pydata.org/pandas-docs/stable/user_guide/indexing.html#returning-a-view-versus-a-copy\n",
      "  isetter(loc, value)\n"
     ]
    },
    {
     "data": {
      "text/html": [
       "<div>\n",
       "<style scoped>\n",
       "    .dataframe tbody tr th:only-of-type {\n",
       "        vertical-align: middle;\n",
       "    }\n",
       "\n",
       "    .dataframe tbody tr th {\n",
       "        vertical-align: top;\n",
       "    }\n",
       "\n",
       "    .dataframe thead th {\n",
       "        text-align: right;\n",
       "    }\n",
       "</style>\n",
       "<table border=\"1\" class=\"dataframe\">\n",
       "  <thead>\n",
       "    <tr style=\"text-align: right;\">\n",
       "      <th></th>\n",
       "      <th>stats.average</th>\n",
       "      <th>stats.averageweight</th>\n",
       "      <th>details.maxplayers</th>\n",
       "      <th>details.maxplaytime</th>\n",
       "      <th>details.minage</th>\n",
       "      <th>details.minplayers</th>\n",
       "      <th>details.minplaytime</th>\n",
       "      <th>details.name</th>\n",
       "      <th>details.playingtime</th>\n",
       "      <th>details.yearpublished</th>\n",
       "    </tr>\n",
       "  </thead>\n",
       "  <tbody>\n",
       "    <tr>\n",
       "      <th>0</th>\n",
       "      <td>7.66508</td>\n",
       "      <td>1.0</td>\n",
       "      <td>5.0</td>\n",
       "      <td>240.0</td>\n",
       "      <td>14.0</td>\n",
       "      <td>3.0</td>\n",
       "      <td>240.0</td>\n",
       "      <td>Die Macher</td>\n",
       "      <td>240.0</td>\n",
       "      <td>1986.0</td>\n",
       "    </tr>\n",
       "    <tr>\n",
       "      <th>1</th>\n",
       "      <td>6.60815</td>\n",
       "      <td>-1.0</td>\n",
       "      <td>4.0</td>\n",
       "      <td>30.0</td>\n",
       "      <td>12.0</td>\n",
       "      <td>3.0</td>\n",
       "      <td>30.0</td>\n",
       "      <td>Dragonmaster</td>\n",
       "      <td>30.0</td>\n",
       "      <td>1981.0</td>\n",
       "    </tr>\n",
       "    <tr>\n",
       "      <th>2</th>\n",
       "      <td>7.44119</td>\n",
       "      <td>1.0</td>\n",
       "      <td>4.0</td>\n",
       "      <td>60.0</td>\n",
       "      <td>10.0</td>\n",
       "      <td>2.0</td>\n",
       "      <td>30.0</td>\n",
       "      <td>Samurai</td>\n",
       "      <td>60.0</td>\n",
       "      <td>1998.0</td>\n",
       "    </tr>\n",
       "    <tr>\n",
       "      <th>3</th>\n",
       "      <td>6.60675</td>\n",
       "      <td>1.0</td>\n",
       "      <td>4.0</td>\n",
       "      <td>60.0</td>\n",
       "      <td>12.0</td>\n",
       "      <td>2.0</td>\n",
       "      <td>60.0</td>\n",
       "      <td>Tal der Könige</td>\n",
       "      <td>60.0</td>\n",
       "      <td>1992.0</td>\n",
       "    </tr>\n",
       "    <tr>\n",
       "      <th>4</th>\n",
       "      <td>7.35830</td>\n",
       "      <td>1.0</td>\n",
       "      <td>6.0</td>\n",
       "      <td>90.0</td>\n",
       "      <td>12.0</td>\n",
       "      <td>3.0</td>\n",
       "      <td>90.0</td>\n",
       "      <td>Acquire</td>\n",
       "      <td>90.0</td>\n",
       "      <td>1964.0</td>\n",
       "    </tr>\n",
       "    <tr>\n",
       "      <th>...</th>\n",
       "      <td>...</td>\n",
       "      <td>...</td>\n",
       "      <td>...</td>\n",
       "      <td>...</td>\n",
       "      <td>...</td>\n",
       "      <td>...</td>\n",
       "      <td>...</td>\n",
       "      <td>...</td>\n",
       "      <td>...</td>\n",
       "      <td>...</td>\n",
       "    </tr>\n",
       "    <tr>\n",
       "      <th>88630</th>\n",
       "      <td>7.02499</td>\n",
       "      <td>-1.0</td>\n",
       "      <td>5.0</td>\n",
       "      <td>0.0</td>\n",
       "      <td>10.0</td>\n",
       "      <td>2.0</td>\n",
       "      <td>30.0</td>\n",
       "      <td>Pyramids</td>\n",
       "      <td>0.0</td>\n",
       "      <td>2017.0</td>\n",
       "    </tr>\n",
       "    <tr>\n",
       "      <th>88729</th>\n",
       "      <td>7.48023</td>\n",
       "      <td>1.0</td>\n",
       "      <td>4.0</td>\n",
       "      <td>80.0</td>\n",
       "      <td>13.0</td>\n",
       "      <td>2.0</td>\n",
       "      <td>40.0</td>\n",
       "      <td>Yamataï</td>\n",
       "      <td>80.0</td>\n",
       "      <td>2017.0</td>\n",
       "    </tr>\n",
       "    <tr>\n",
       "      <th>89183</th>\n",
       "      <td>7.45871</td>\n",
       "      <td>-1.0</td>\n",
       "      <td>6.0</td>\n",
       "      <td>120.0</td>\n",
       "      <td>12.0</td>\n",
       "      <td>2.0</td>\n",
       "      <td>20.0</td>\n",
       "      <td>Robo Rally (2016)</td>\n",
       "      <td>120.0</td>\n",
       "      <td>2016.0</td>\n",
       "    </tr>\n",
       "    <tr>\n",
       "      <th>89320</th>\n",
       "      <td>7.52941</td>\n",
       "      <td>-1.0</td>\n",
       "      <td>5.0</td>\n",
       "      <td>60.0</td>\n",
       "      <td>14.0</td>\n",
       "      <td>1.0</td>\n",
       "      <td>30.0</td>\n",
       "      <td>Villages of Valeria: Deluxe Kickstarter Edition</td>\n",
       "      <td>60.0</td>\n",
       "      <td>2016.0</td>\n",
       "    </tr>\n",
       "    <tr>\n",
       "      <th>89537</th>\n",
       "      <td>6.91718</td>\n",
       "      <td>-1.0</td>\n",
       "      <td>4.0</td>\n",
       "      <td>20.0</td>\n",
       "      <td>8.0</td>\n",
       "      <td>1.0</td>\n",
       "      <td>20.0</td>\n",
       "      <td>NMBR 9</td>\n",
       "      <td>20.0</td>\n",
       "      <td>2017.0</td>\n",
       "    </tr>\n",
       "  </tbody>\n",
       "</table>\n",
       "<p>7465 rows × 10 columns</p>\n",
       "</div>"
      ],
      "text/plain": [
       "       stats.average  stats.averageweight  details.maxplayers  \\\n",
       "0            7.66508                  1.0                 5.0   \n",
       "1            6.60815                 -1.0                 4.0   \n",
       "2            7.44119                  1.0                 4.0   \n",
       "3            6.60675                  1.0                 4.0   \n",
       "4            7.35830                  1.0                 6.0   \n",
       "...              ...                  ...                 ...   \n",
       "88630        7.02499                 -1.0                 5.0   \n",
       "88729        7.48023                  1.0                 4.0   \n",
       "89183        7.45871                 -1.0                 6.0   \n",
       "89320        7.52941                 -1.0                 5.0   \n",
       "89537        6.91718                 -1.0                 4.0   \n",
       "\n",
       "       details.maxplaytime  details.minage  details.minplayers  \\\n",
       "0                    240.0            14.0                 3.0   \n",
       "1                     30.0            12.0                 3.0   \n",
       "2                     60.0            10.0                 2.0   \n",
       "3                     60.0            12.0                 2.0   \n",
       "4                     90.0            12.0                 3.0   \n",
       "...                    ...             ...                 ...   \n",
       "88630                  0.0            10.0                 2.0   \n",
       "88729                 80.0            13.0                 2.0   \n",
       "89183                120.0            12.0                 2.0   \n",
       "89320                 60.0            14.0                 1.0   \n",
       "89537                 20.0             8.0                 1.0   \n",
       "\n",
       "       details.minplaytime                                     details.name  \\\n",
       "0                    240.0                                       Die Macher   \n",
       "1                     30.0                                     Dragonmaster   \n",
       "2                     30.0                                          Samurai   \n",
       "3                     60.0                                   Tal der Könige   \n",
       "4                     90.0                                          Acquire   \n",
       "...                    ...                                              ...   \n",
       "88630                 30.0                                         Pyramids   \n",
       "88729                 40.0                                          Yamataï   \n",
       "89183                 20.0                                Robo Rally (2016)   \n",
       "89320                 30.0  Villages of Valeria: Deluxe Kickstarter Edition   \n",
       "89537                 20.0                                           NMBR 9   \n",
       "\n",
       "       details.playingtime  details.yearpublished  \n",
       "0                    240.0                 1986.0  \n",
       "1                     30.0                 1981.0  \n",
       "2                     60.0                 1998.0  \n",
       "3                     60.0                 1992.0  \n",
       "4                     90.0                 1964.0  \n",
       "...                    ...                    ...  \n",
       "88630                  0.0                 2017.0  \n",
       "88729                 80.0                 2017.0  \n",
       "89183                120.0                 2016.0  \n",
       "89320                 60.0                 2016.0  \n",
       "89537                 20.0                 2017.0  \n",
       "\n",
       "[7465 rows x 10 columns]"
      ]
     },
     "execution_count": 59,
     "metadata": {},
     "output_type": "execute_result"
    }
   ],
   "source": [
    "df_.loc[df_['stats.averageweight'] < 2.99, 'stats.averageweight'] = -1\n",
    "df_.loc[df_['stats.averageweight'] >= 3, 'stats.averageweight'] = 1\n",
    "df_\n"
   ]
  },
  {
   "cell_type": "markdown",
   "metadata": {},
   "source": [
    "### Criando o dataset de treinamento\n",
    "As colunas usadas foram transformadas em vetores e agrupadas em um array Numpy.\n",
    "A coluna dos pesos também foi transformada em array Numpy"
   ]
  },
  {
   "cell_type": "code",
   "execution_count": 99,
   "metadata": {},
   "outputs": [],
   "source": [
    "dificuldade = df_['stats.averageweight']\n",
    "max_players = df_['details.maxplayers']\n",
    "min_players = df_['details.minplayers']\n",
    "max_playtime = df_['details.maxplaytime']\n",
    "min_playtime = df_['details.minplaytime']\n",
    "\n",
    "X = np.array([max_players, min_players, max_playtime, min_playtime]).T\n",
    "y = np.array(dificuldade)"
   ]
  },
  {
   "cell_type": "code",
   "execution_count": 102,
   "metadata": {},
   "outputs": [
    {
     "data": {
      "text/plain": [
       "((7465, 4), (7465,))"
      ]
     },
     "execution_count": 102,
     "metadata": {},
     "output_type": "execute_result"
    }
   ],
   "source": [
    "X.shape, y.shape"
   ]
  },
  {
   "cell_type": "markdown",
   "metadata": {},
   "source": [
    "### Treinamento\n",
    "O Perceptron foi criado utilizando 0.01 como taxa de aprendizagem e 1000 iterações. Os valores foram escolhidos de forma empírica por questão de performance e duração do treinamento."
   ]
  },
  {
   "cell_type": "code",
   "execution_count": 103,
   "metadata": {},
   "outputs": [
    {
     "data": {
      "text/plain": [
       "<__main__.Perceptron at 0x2327a5ba388>"
      ]
     },
     "execution_count": 103,
     "metadata": {},
     "output_type": "execute_result"
    }
   ],
   "source": [
    "model = Perceptron(0.01, 1000)\n",
    "model.fit(X, y)"
   ]
  },
  {
   "cell_type": "markdown",
   "metadata": {},
   "source": [
    "Treinamento concluído. O teste a seguir foi feito utilizando dados contidos no dataset de treino. O valor esperado de predição é 1, ou seja, um jogo difícil."
   ]
  },
  {
   "cell_type": "code",
   "execution_count": 104,
   "metadata": {},
   "outputs": [
    {
     "data": {
      "text/plain": [
       "array(1)"
      ]
     },
     "execution_count": 104,
     "metadata": {},
     "output_type": "execute_result"
    }
   ],
   "source": [
    "model.predict(np.array([5, 3, 240, 240]))"
   ]
  },
  {
   "cell_type": "markdown",
   "metadata": {},
   "source": [
    "O teste a seguir foi feito com dados não existentes no conjunto de treino. O valor esperado é -1, pois o peso original é cerca de 2.0."
   ]
  },
  {
   "cell_type": "code",
   "execution_count": 106,
   "metadata": {},
   "outputs": [
    {
     "data": {
      "text/plain": [
       "array(-1)"
      ]
     },
     "execution_count": 106,
     "metadata": {},
     "output_type": "execute_result"
    }
   ],
   "source": [
    "model.predict(np.array([6.0, 20.0, 3.0, 20.0]))"
   ]
  },
  {
   "cell_type": "markdown",
   "metadata": {},
   "source": [
    "### Acurácia e Cross Validation\n",
    "O teste de validação cruzada foi feito para obter uma acurácia média do Perceptron. O k escolhido foi 10, devido a duração do treinamento."
   ]
  },
  {
   "cell_type": "code",
   "execution_count": 105,
   "metadata": {},
   "outputs": [
    {
     "name": "stdout",
     "output_type": "stream",
     "text": [
      "[71.17962466487936, 67.69436997319035, 69.16890080428955, 29.624664879356565, 66.89008042895442, 64.87935656836461, 68.09651474530831, 73.7265415549598, 72.11796246648794, 31.903485254691688]\n"
     ]
    },
    {
     "data": {
      "text/plain": [
       "61.52815013404826"
      ]
     },
     "execution_count": 105,
     "metadata": {},
     "output_type": "execute_result"
    }
   ],
   "source": [
    "cross_val(X, y, model, 10)"
   ]
  },
  {
   "cell_type": "markdown",
   "metadata": {},
   "source": [
    "A acurácia final do modelo foi de **61.5%**. Possívelmente seria possível aumentar essa acurácia utilizando um K maior e também variando os hiperparâmetros do modelo (taxa de aprendizagem e número de iterações). "
   ]
  },
  {
   "cell_type": "markdown",
   "metadata": {},
   "source": [
    "## Conclusão\n",
    "O Perceptron simples, apesar de ter obtido resultados interessantes para o conjunto de dados apresentado, não é o modelo mais indicado para este dataset, visto que foi necessário alterar a classificação de dificuldade do jogo para adequar ao modelo binário. Um Perceptron multi-camadas, ou outros modelos multi-classe trariam informações mais relevantes para nós. Outra opção seria a utilização de um modelo de Regressão para tentar acertar a nota do jogo ao invés de sua dificuldade."
   ]
  }
 ],
 "metadata": {
  "kernelspec": {
   "display_name": "Python 3",
   "language": "python",
   "name": "python3"
  },
  "language_info": {
   "codemirror_mode": {
    "name": "ipython",
    "version": 3
   },
   "file_extension": ".py",
   "mimetype": "text/x-python",
   "name": "python",
   "nbconvert_exporter": "python",
   "pygments_lexer": "ipython3",
   "version": "3.7.6"
  }
 },
 "nbformat": 4,
 "nbformat_minor": 4
}
